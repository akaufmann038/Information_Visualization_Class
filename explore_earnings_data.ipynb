{
 "cells": [
  {
   "cell_type": "code",
   "execution_count": 115,
   "metadata": {},
   "outputs": [],
   "source": [
    "import pandas as pd\n",
    "import matplotlib.pyplot as plt"
   ]
  },
  {
   "cell_type": "code",
   "execution_count": 116,
   "metadata": {},
   "outputs": [],
   "source": [
    "# read in data from csv\n",
    "df = pd.read_csv(\"allemployeescy2019_feb19_20final-all.csv\")"
   ]
  },
  {
   "cell_type": "code",
   "execution_count": 117,
   "metadata": {},
   "outputs": [
    {
     "data": {
      "text/html": [
       "<div>\n",
       "<style scoped>\n",
       "    .dataframe tbody tr th:only-of-type {\n",
       "        vertical-align: middle;\n",
       "    }\n",
       "\n",
       "    .dataframe tbody tr th {\n",
       "        vertical-align: top;\n",
       "    }\n",
       "\n",
       "    .dataframe thead th {\n",
       "        text-align: right;\n",
       "    }\n",
       "</style>\n",
       "<table border=\"1\" class=\"dataframe\">\n",
       "  <thead>\n",
       "    <tr style=\"text-align: right;\">\n",
       "      <th></th>\n",
       "      <th>NAME</th>\n",
       "      <th>DEPARTMENT_NAME</th>\n",
       "      <th>TITLE</th>\n",
       "      <th>REGULAR</th>\n",
       "      <th>RETRO</th>\n",
       "      <th>OTHER</th>\n",
       "      <th>OVERTIME</th>\n",
       "      <th>INJURED</th>\n",
       "      <th>DETAIL</th>\n",
       "      <th>QUINN/EDUCATION INCENTIVE</th>\n",
       "      <th>TOTAL EARNINGS</th>\n",
       "      <th>POSTAL</th>\n",
       "    </tr>\n",
       "  </thead>\n",
       "  <tbody>\n",
       "    <tr>\n",
       "      <th>0</th>\n",
       "      <td>Bottomley,Torii A</td>\n",
       "      <td>BPS Business Service</td>\n",
       "      <td>BPS Worker's Comp Job Class</td>\n",
       "      <td>-</td>\n",
       "      <td>-</td>\n",
       "      <td>-</td>\n",
       "      <td>-</td>\n",
       "      <td>772,034.24</td>\n",
       "      <td>-</td>\n",
       "      <td>-</td>\n",
       "      <td>772,034.24</td>\n",
       "      <td>1938</td>\n",
       "    </tr>\n",
       "    <tr>\n",
       "      <th>1</th>\n",
       "      <td>Smith,Lincoln</td>\n",
       "      <td>Workers Compensation Service</td>\n",
       "      <td>Workers Comp Job Classificatn</td>\n",
       "      <td>-</td>\n",
       "      <td>-</td>\n",
       "      <td>-</td>\n",
       "      <td>-</td>\n",
       "      <td>401,182.80</td>\n",
       "      <td>-</td>\n",
       "      <td>-</td>\n",
       "      <td>401,182.80</td>\n",
       "      <td>2125</td>\n",
       "    </tr>\n",
       "    <tr>\n",
       "      <th>2</th>\n",
       "      <td>Kervin,Timothy M.</td>\n",
       "      <td>Boston Police Department</td>\n",
       "      <td>Police Lieutenant/Hdq Dispatch</td>\n",
       "      <td>142,061.86</td>\n",
       "      <td>-</td>\n",
       "      <td>21,262.85</td>\n",
       "      <td>115,361.12</td>\n",
       "      <td>-</td>\n",
       "      <td>41,360.00</td>\n",
       "      <td>35,492.87</td>\n",
       "      <td>355,538.70</td>\n",
       "      <td>2135</td>\n",
       "    </tr>\n",
       "    <tr>\n",
       "      <th>3</th>\n",
       "      <td>Danilecki,John H</td>\n",
       "      <td>Boston Police Department</td>\n",
       "      <td>Police Captain</td>\n",
       "      <td>161,608.85</td>\n",
       "      <td>-</td>\n",
       "      <td>24,040.29</td>\n",
       "      <td>68,964.13</td>\n",
       "      <td>-</td>\n",
       "      <td>53,040.00</td>\n",
       "      <td>40,402.20</td>\n",
       "      <td>348,055.47</td>\n",
       "      <td>2081</td>\n",
       "    </tr>\n",
       "    <tr>\n",
       "      <th>4</th>\n",
       "      <td>Maguire,Joseph M</td>\n",
       "      <td>Boston Police Department</td>\n",
       "      <td>Police Sergeant/Hdq Dispatcher</td>\n",
       "      <td>128,912.77</td>\n",
       "      <td>-</td>\n",
       "      <td>7,128.30</td>\n",
       "      <td>121,616.21</td>\n",
       "      <td>-</td>\n",
       "      <td>55,544.00</td>\n",
       "      <td>31,310.86</td>\n",
       "      <td>344,512.14</td>\n",
       "      <td>2038</td>\n",
       "    </tr>\n",
       "  </tbody>\n",
       "</table>\n",
       "</div>"
      ],
      "text/plain": [
       "                NAME               DEPARTMENT_NAME  \\\n",
       "0  Bottomley,Torii A          BPS Business Service   \n",
       "1      Smith,Lincoln  Workers Compensation Service   \n",
       "2  Kervin,Timothy M.      Boston Police Department   \n",
       "3   Danilecki,John H      Boston Police Department   \n",
       "4   Maguire,Joseph M      Boston Police Department   \n",
       "\n",
       "                            TITLE       REGULAR   RETRO         OTHER   \\\n",
       "0     BPS Worker's Comp Job Class           -       -             -      \n",
       "1   Workers Comp Job Classificatn           -       -             -      \n",
       "2  Police Lieutenant/Hdq Dispatch    142,061.86     -       21,262.85    \n",
       "3                  Police Captain    161,608.85     -       24,040.29    \n",
       "4  Police Sergeant/Hdq Dispatcher    128,912.77     -        7,128.30    \n",
       "\n",
       "       OVERTIME        INJURED        DETAIL   QUINN/EDUCATION INCENTIVE   \\\n",
       "0           -       772,034.24           -                           -      \n",
       "1           -       401,182.80           -                           -      \n",
       "2    115,361.12            -       41,360.00                   35,492.87    \n",
       "3     68,964.13            -       53,040.00                   40,402.20    \n",
       "4    121,616.21            -       55,544.00                   31,310.86    \n",
       "\n",
       "  TOTAL EARNINGS  POSTAL  \n",
       "0     772,034.24    1938  \n",
       "1     401,182.80    2125  \n",
       "2     355,538.70    2135  \n",
       "3     348,055.47    2081  \n",
       "4     344,512.14    2038  "
      ]
     },
     "execution_count": 117,
     "metadata": {},
     "output_type": "execute_result"
    }
   ],
   "source": [
    "df.head()"
   ]
  },
  {
   "cell_type": "markdown",
   "metadata": {},
   "source": [
    "## Cleaning ToDo List\n",
    "##### The goal: a dataframe with two columns, department_name and frequency. The frequency column represents the frequency of each department_name in relation to the other target department names. This frequency is a percentage out of 100."
   ]
  },
  {
   "cell_type": "markdown",
   "metadata": {},
   "source": [
    "#### Define\n",
    "\n",
    "Create list of target departments and access only rows with those department names. Set df to this modified dataframe."
   ]
  },
  {
   "cell_type": "code",
   "execution_count": 118,
   "metadata": {
    "scrolled": false
   },
   "outputs": [
    {
     "data": {
      "text/plain": [
       "Index(['Boston Police Department', 'Boston Fire Department',\n",
       "       'BPS Substitute Teachers/Nurs', 'BPS Special Education',\n",
       "       'BPS Transportation', 'BPS Facility Management',\n",
       "       'Boston Public Library', 'Boston Cntr - Youth & Families',\n",
       "       'Public Works Department', 'Traffic Division',\n",
       "       ...\n",
       "       'Legal Advisor', 'Dorchester Academy', 'Boston Cntr-Youth & Families',\n",
       "       'BPS Mattahunt Elementary', 'DND Neighborhood Development',\n",
       "       'Fenway High School', 'BPS Facilitites Management',\n",
       "       'BPS MPH\\Commerce Academy', 'BPS MPH\\Crafts Academy',\n",
       "       'BPS Withthrop Elementary'],\n",
       "      dtype='object', length=230)"
      ]
     },
     "execution_count": 118,
     "metadata": {},
     "output_type": "execute_result"
    }
   ],
   "source": [
    "df.DEPARTMENT_NAME.value_counts().index"
   ]
  },
  {
   "cell_type": "code",
   "execution_count": 119,
   "metadata": {},
   "outputs": [],
   "source": [
    "# Get rows with desired departments under DEPARTMENT_NAME\n",
    "target_departments = ['Boston Police Department', 'BPS Substitute Teachers/Nurs', \n",
    "                      'BPS Transportation', 'Boston Fire Department', \n",
    "                      'BPS Special Education', 'BPS Business Service', \n",
    "                      'Boston Public Library', 'BPS Facility Management']\n",
    "\n",
    "df = df[df['DEPARTMENT_NAME'].isin(target_departments)]"
   ]
  },
  {
   "cell_type": "markdown",
   "metadata": {},
   "source": [
    "#### Define\n",
    "\n",
    "Use pd.drop to drop all columns except department_name"
   ]
  },
  {
   "cell_type": "code",
   "execution_count": 120,
   "metadata": {
    "scrolled": true
   },
   "outputs": [],
   "source": [
    "# drop all columns except for DEPARTMENT_NAME\n",
    "df.drop(['NAME', 'TITLE', ' REGULAR ', ' RETRO ', ' OTHER ', ' OVERTIME ', ' INJURED ', ' DETAIL ', ' QUINN/EDUCATION INCENTIVE ', 'TOTAL EARNINGS', 'POSTAL'], axis=1, inplace=True)"
   ]
  },
  {
   "cell_type": "markdown",
   "metadata": {},
   "source": [
    "#### Define\n",
    "\n",
    "Use df.value_counts() to get count of each department name and turn this into a dataframe with frequency as the column name. Then change frequency values to percentages out of 100 in decimal format. Finally, use reset_index() to make department_name a column and create numbered indexing and make DEPARTMENT_NAME lowercase."
   ]
  },
  {
   "cell_type": "code",
   "execution_count": 121,
   "metadata": {},
   "outputs": [],
   "source": [
    "# create dataframe with department_names and frequency\n",
    "viz_df = pd.DataFrame(df.value_counts(), columns= ['frequency'])"
   ]
  },
  {
   "cell_type": "code",
   "execution_count": 122,
   "metadata": {},
   "outputs": [],
   "source": [
    "# change values in value column to represent percent out of 100 in decimal format\n",
    "viz_df['frequency'] = viz_df.frequency / viz_df.frequency.sum()"
   ]
  },
  {
   "cell_type": "code",
   "execution_count": 123,
   "metadata": {},
   "outputs": [
    {
     "data": {
      "text/html": [
       "<div>\n",
       "<style scoped>\n",
       "    .dataframe tbody tr th:only-of-type {\n",
       "        vertical-align: middle;\n",
       "    }\n",
       "\n",
       "    .dataframe tbody tr th {\n",
       "        vertical-align: top;\n",
       "    }\n",
       "\n",
       "    .dataframe thead th {\n",
       "        text-align: right;\n",
       "    }\n",
       "</style>\n",
       "<table border=\"1\" class=\"dataframe\">\n",
       "  <thead>\n",
       "    <tr style=\"text-align: right;\">\n",
       "      <th></th>\n",
       "      <th>frequency</th>\n",
       "    </tr>\n",
       "    <tr>\n",
       "      <th>DEPARTMENT_NAME</th>\n",
       "      <th></th>\n",
       "    </tr>\n",
       "  </thead>\n",
       "  <tbody>\n",
       "    <tr>\n",
       "      <th>Boston Police Department</th>\n",
       "      <td>0.375934</td>\n",
       "    </tr>\n",
       "    <tr>\n",
       "      <th>Boston Fire Department</th>\n",
       "      <td>0.202965</td>\n",
       "    </tr>\n",
       "    <tr>\n",
       "      <th>BPS Substitute Teachers/Nurs</th>\n",
       "      <td>0.106654</td>\n",
       "    </tr>\n",
       "    <tr>\n",
       "      <th>BPS Special Education</th>\n",
       "      <td>0.098494</td>\n",
       "    </tr>\n",
       "    <tr>\n",
       "      <th>BPS Transportation</th>\n",
       "      <td>0.075049</td>\n",
       "    </tr>\n",
       "    <tr>\n",
       "      <th>BPS Facility Management</th>\n",
       "      <td>0.067349</td>\n",
       "    </tr>\n",
       "    <tr>\n",
       "      <th>Boston Public Library</th>\n",
       "      <td>0.064590</td>\n",
       "    </tr>\n",
       "    <tr>\n",
       "      <th>BPS Business Service</th>\n",
       "      <td>0.008964</td>\n",
       "    </tr>\n",
       "  </tbody>\n",
       "</table>\n",
       "</div>"
      ],
      "text/plain": [
       "                              frequency\n",
       "DEPARTMENT_NAME                        \n",
       "Boston Police Department       0.375934\n",
       "Boston Fire Department         0.202965\n",
       "BPS Substitute Teachers/Nurs   0.106654\n",
       "BPS Special Education          0.098494\n",
       "BPS Transportation             0.075049\n",
       "BPS Facility Management        0.067349\n",
       "Boston Public Library          0.064590\n",
       "BPS Business Service           0.008964"
      ]
     },
     "execution_count": 123,
     "metadata": {},
     "output_type": "execute_result"
    }
   ],
   "source": [
    "# verifying operation worked\n",
    "viz_df"
   ]
  },
  {
   "cell_type": "code",
   "execution_count": 124,
   "metadata": {},
   "outputs": [],
   "source": [
    "# rename DEPARTMENT_NAME to department_name\n",
    "viz_df.rename_axis('department_name', inplace=True)\n",
    "\n",
    "# rename some index names to shorter strings so there won't be overlap in visualization\n",
    "viz_df.rename(index={'Boston Police Department': 'Police Department', \n",
    "                     'Boston Fire Department': 'Fire Department',\n",
    "                     'BPS Substitute Teachers/Nurs': 'BPS Substitute Teachers'}, inplace=True)"
   ]
  },
  {
   "cell_type": "code",
   "execution_count": 125,
   "metadata": {},
   "outputs": [],
   "source": [
    "# add index to dataframe\n",
    "viz_df.reset_index(inplace=True)"
   ]
  },
  {
   "cell_type": "markdown",
   "metadata": {},
   "source": [
    "#### Define\n",
    "\n",
    "Export dataframe as csv without the index. This is because the Observable notebook would read the index as another column."
   ]
  },
  {
   "cell_type": "code",
   "execution_count": 126,
   "metadata": {},
   "outputs": [],
   "source": [
    "# export dataframe to csv\n",
    "viz_df.to_csv('final_earnings_data.csv', index=False)"
   ]
  },
  {
   "cell_type": "code",
   "execution_count": 127,
   "metadata": {},
   "outputs": [
    {
     "data": {
      "text/html": [
       "<div>\n",
       "<style scoped>\n",
       "    .dataframe tbody tr th:only-of-type {\n",
       "        vertical-align: middle;\n",
       "    }\n",
       "\n",
       "    .dataframe tbody tr th {\n",
       "        vertical-align: top;\n",
       "    }\n",
       "\n",
       "    .dataframe thead th {\n",
       "        text-align: right;\n",
       "    }\n",
       "</style>\n",
       "<table border=\"1\" class=\"dataframe\">\n",
       "  <thead>\n",
       "    <tr style=\"text-align: right;\">\n",
       "      <th></th>\n",
       "      <th>department_name</th>\n",
       "      <th>frequency</th>\n",
       "    </tr>\n",
       "  </thead>\n",
       "  <tbody>\n",
       "    <tr>\n",
       "      <th>0</th>\n",
       "      <td>Police Department</td>\n",
       "      <td>0.375934</td>\n",
       "    </tr>\n",
       "    <tr>\n",
       "      <th>1</th>\n",
       "      <td>Fire Department</td>\n",
       "      <td>0.202965</td>\n",
       "    </tr>\n",
       "    <tr>\n",
       "      <th>2</th>\n",
       "      <td>BPS Substitute Teachers</td>\n",
       "      <td>0.106654</td>\n",
       "    </tr>\n",
       "    <tr>\n",
       "      <th>3</th>\n",
       "      <td>BPS Special Education</td>\n",
       "      <td>0.098494</td>\n",
       "    </tr>\n",
       "    <tr>\n",
       "      <th>4</th>\n",
       "      <td>BPS Transportation</td>\n",
       "      <td>0.075049</td>\n",
       "    </tr>\n",
       "    <tr>\n",
       "      <th>5</th>\n",
       "      <td>BPS Facility Management</td>\n",
       "      <td>0.067349</td>\n",
       "    </tr>\n",
       "    <tr>\n",
       "      <th>6</th>\n",
       "      <td>Boston Public Library</td>\n",
       "      <td>0.064590</td>\n",
       "    </tr>\n",
       "    <tr>\n",
       "      <th>7</th>\n",
       "      <td>BPS Business Service</td>\n",
       "      <td>0.008964</td>\n",
       "    </tr>\n",
       "  </tbody>\n",
       "</table>\n",
       "</div>"
      ],
      "text/plain": [
       "           department_name  frequency\n",
       "0        Police Department   0.375934\n",
       "1          Fire Department   0.202965\n",
       "2  BPS Substitute Teachers   0.106654\n",
       "3    BPS Special Education   0.098494\n",
       "4       BPS Transportation   0.075049\n",
       "5  BPS Facility Management   0.067349\n",
       "6    Boston Public Library   0.064590\n",
       "7     BPS Business Service   0.008964"
      ]
     },
     "execution_count": 127,
     "metadata": {},
     "output_type": "execute_result"
    }
   ],
   "source": [
    "# final dataframe\n",
    "viz_df"
   ]
  }
 ],
 "metadata": {
  "kernelspec": {
   "display_name": "Python 3",
   "language": "python",
   "name": "python3"
  },
  "language_info": {
   "codemirror_mode": {
    "name": "ipython",
    "version": 3
   },
   "file_extension": ".py",
   "mimetype": "text/x-python",
   "name": "python",
   "nbconvert_exporter": "python",
   "pygments_lexer": "ipython3",
   "version": "3.8.5"
  }
 },
 "nbformat": 4,
 "nbformat_minor": 4
}
