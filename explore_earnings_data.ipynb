{
 "cells": [
  {
   "cell_type": "code",
   "execution_count": 141,
   "metadata": {},
   "outputs": [],
   "source": [
    "import pandas as pd\n",
    "import matplotlib.pyplot as plt"
   ]
  },
  {
   "cell_type": "code",
   "execution_count": 142,
   "metadata": {},
   "outputs": [],
   "source": [
    "# read in data from csv\n",
    "df = pd.read_csv(\"allemployeescy2019_feb19_20final-all.csv\")"
   ]
  },
  {
   "cell_type": "code",
   "execution_count": 143,
   "metadata": {},
   "outputs": [
    {
     "data": {
      "text/html": [
       "<div>\n",
       "<style scoped>\n",
       "    .dataframe tbody tr th:only-of-type {\n",
       "        vertical-align: middle;\n",
       "    }\n",
       "\n",
       "    .dataframe tbody tr th {\n",
       "        vertical-align: top;\n",
       "    }\n",
       "\n",
       "    .dataframe thead th {\n",
       "        text-align: right;\n",
       "    }\n",
       "</style>\n",
       "<table border=\"1\" class=\"dataframe\">\n",
       "  <thead>\n",
       "    <tr style=\"text-align: right;\">\n",
       "      <th></th>\n",
       "      <th>NAME</th>\n",
       "      <th>DEPARTMENT_NAME</th>\n",
       "      <th>TITLE</th>\n",
       "      <th>REGULAR</th>\n",
       "      <th>RETRO</th>\n",
       "      <th>OTHER</th>\n",
       "      <th>OVERTIME</th>\n",
       "      <th>INJURED</th>\n",
       "      <th>DETAIL</th>\n",
       "      <th>QUINN/EDUCATION INCENTIVE</th>\n",
       "      <th>TOTAL EARNINGS</th>\n",
       "      <th>POSTAL</th>\n",
       "    </tr>\n",
       "  </thead>\n",
       "  <tbody>\n",
       "    <tr>\n",
       "      <th>0</th>\n",
       "      <td>Bottomley,Torii A</td>\n",
       "      <td>BPS Business Service</td>\n",
       "      <td>BPS Worker's Comp Job Class</td>\n",
       "      <td>-</td>\n",
       "      <td>-</td>\n",
       "      <td>-</td>\n",
       "      <td>-</td>\n",
       "      <td>772,034.24</td>\n",
       "      <td>-</td>\n",
       "      <td>-</td>\n",
       "      <td>772,034.24</td>\n",
       "      <td>1938</td>\n",
       "    </tr>\n",
       "    <tr>\n",
       "      <th>1</th>\n",
       "      <td>Smith,Lincoln</td>\n",
       "      <td>Workers Compensation Service</td>\n",
       "      <td>Workers Comp Job Classificatn</td>\n",
       "      <td>-</td>\n",
       "      <td>-</td>\n",
       "      <td>-</td>\n",
       "      <td>-</td>\n",
       "      <td>401,182.80</td>\n",
       "      <td>-</td>\n",
       "      <td>-</td>\n",
       "      <td>401,182.80</td>\n",
       "      <td>2125</td>\n",
       "    </tr>\n",
       "    <tr>\n",
       "      <th>2</th>\n",
       "      <td>Kervin,Timothy M.</td>\n",
       "      <td>Boston Police Department</td>\n",
       "      <td>Police Lieutenant/Hdq Dispatch</td>\n",
       "      <td>142,061.86</td>\n",
       "      <td>-</td>\n",
       "      <td>21,262.85</td>\n",
       "      <td>115,361.12</td>\n",
       "      <td>-</td>\n",
       "      <td>41,360.00</td>\n",
       "      <td>35,492.87</td>\n",
       "      <td>355,538.70</td>\n",
       "      <td>2135</td>\n",
       "    </tr>\n",
       "    <tr>\n",
       "      <th>3</th>\n",
       "      <td>Danilecki,John H</td>\n",
       "      <td>Boston Police Department</td>\n",
       "      <td>Police Captain</td>\n",
       "      <td>161,608.85</td>\n",
       "      <td>-</td>\n",
       "      <td>24,040.29</td>\n",
       "      <td>68,964.13</td>\n",
       "      <td>-</td>\n",
       "      <td>53,040.00</td>\n",
       "      <td>40,402.20</td>\n",
       "      <td>348,055.47</td>\n",
       "      <td>2081</td>\n",
       "    </tr>\n",
       "    <tr>\n",
       "      <th>4</th>\n",
       "      <td>Maguire,Joseph M</td>\n",
       "      <td>Boston Police Department</td>\n",
       "      <td>Police Sergeant/Hdq Dispatcher</td>\n",
       "      <td>128,912.77</td>\n",
       "      <td>-</td>\n",
       "      <td>7,128.30</td>\n",
       "      <td>121,616.21</td>\n",
       "      <td>-</td>\n",
       "      <td>55,544.00</td>\n",
       "      <td>31,310.86</td>\n",
       "      <td>344,512.14</td>\n",
       "      <td>2038</td>\n",
       "    </tr>\n",
       "  </tbody>\n",
       "</table>\n",
       "</div>"
      ],
      "text/plain": [
       "                NAME               DEPARTMENT_NAME  \\\n",
       "0  Bottomley,Torii A          BPS Business Service   \n",
       "1      Smith,Lincoln  Workers Compensation Service   \n",
       "2  Kervin,Timothy M.      Boston Police Department   \n",
       "3   Danilecki,John H      Boston Police Department   \n",
       "4   Maguire,Joseph M      Boston Police Department   \n",
       "\n",
       "                            TITLE       REGULAR   RETRO         OTHER   \\\n",
       "0     BPS Worker's Comp Job Class           -       -             -      \n",
       "1   Workers Comp Job Classificatn           -       -             -      \n",
       "2  Police Lieutenant/Hdq Dispatch    142,061.86     -       21,262.85    \n",
       "3                  Police Captain    161,608.85     -       24,040.29    \n",
       "4  Police Sergeant/Hdq Dispatcher    128,912.77     -        7,128.30    \n",
       "\n",
       "       OVERTIME        INJURED        DETAIL   QUINN/EDUCATION INCENTIVE   \\\n",
       "0           -       772,034.24           -                           -      \n",
       "1           -       401,182.80           -                           -      \n",
       "2    115,361.12            -       41,360.00                   35,492.87    \n",
       "3     68,964.13            -       53,040.00                   40,402.20    \n",
       "4    121,616.21            -       55,544.00                   31,310.86    \n",
       "\n",
       "  TOTAL EARNINGS  POSTAL  \n",
       "0     772,034.24    1938  \n",
       "1     401,182.80    2125  \n",
       "2     355,538.70    2135  \n",
       "3     348,055.47    2081  \n",
       "4     344,512.14    2038  "
      ]
     },
     "execution_count": 143,
     "metadata": {},
     "output_type": "execute_result"
    }
   ],
   "source": [
    "df.head()"
   ]
  },
  {
   "cell_type": "markdown",
   "metadata": {},
   "source": [
    "## Cleaning ToDo List\n",
    "##### The goal: a dataframe with two columns, department_name and frequency. The frequency column represents the frequency of each department_name in relation to the other target department names. This frequency is a percentage out of 100."
   ]
  },
  {
   "cell_type": "markdown",
   "metadata": {},
   "source": [
    "#### Define\n",
    "\n",
    "Create list of target departments and access only rows with those department names. Set df to this modified dataframe."
   ]
  },
  {
   "cell_type": "code",
   "execution_count": 144,
   "metadata": {},
   "outputs": [],
   "source": [
    "# Get rows with desired departments under DEPARTMENT_NAME\n",
    "target_departments = ['Boston Police Department', 'BPS Substitute Teachers/Nurs', 'BPS Transportation', 'Boston Fire Department', 'BPS Special Education', 'BPS Business Service', 'Boston Public Library']\n",
    "\n",
    "df = df[df['DEPARTMENT_NAME'].isin(target_departments)]"
   ]
  },
  {
   "cell_type": "markdown",
   "metadata": {},
   "source": [
    "#### Define\n",
    "\n",
    "Use pd.drop to drop all columns except department_name"
   ]
  },
  {
   "cell_type": "code",
   "execution_count": 145,
   "metadata": {
    "scrolled": true
   },
   "outputs": [],
   "source": [
    "# drop all columns except for DEPARTMENT_NAME\n",
    "df.drop(['NAME', 'TITLE', ' REGULAR ', ' RETRO ', ' OTHER ', ' OVERTIME ', ' INJURED ', ' DETAIL ', ' QUINN/EDUCATION INCENTIVE ', 'TOTAL EARNINGS', 'POSTAL'], axis=1, inplace=True)"
   ]
  },
  {
   "cell_type": "markdown",
   "metadata": {},
   "source": [
    "#### Define\n",
    "\n",
    "Use df.value_counts() to get count of each department name and turn this into a dataframe with frequency as the column name. Then change frequency values to percentages out of 100 in decimal format. Finally, use reset_index() to make department_name a column and create numbered indexing and make DEPARTMENT_NAME lowercase."
   ]
  },
  {
   "cell_type": "code",
   "execution_count": 146,
   "metadata": {},
   "outputs": [],
   "source": [
    "# create dataframe with department_names and frequency\n",
    "viz_df = pd.DataFrame(df.value_counts(), columns= ['frequency'])"
   ]
  },
  {
   "cell_type": "code",
   "execution_count": 147,
   "metadata": {},
   "outputs": [],
   "source": [
    "# change values in value column to represent percent out of 100 in decimal format\n",
    "viz_df['frequency'] = viz_df.frequency / viz_df.frequency.sum()"
   ]
  },
  {
   "cell_type": "code",
   "execution_count": 148,
   "metadata": {},
   "outputs": [
    {
     "data": {
      "text/html": [
       "<div>\n",
       "<style scoped>\n",
       "    .dataframe tbody tr th:only-of-type {\n",
       "        vertical-align: middle;\n",
       "    }\n",
       "\n",
       "    .dataframe tbody tr th {\n",
       "        vertical-align: top;\n",
       "    }\n",
       "\n",
       "    .dataframe thead th {\n",
       "        text-align: right;\n",
       "    }\n",
       "</style>\n",
       "<table border=\"1\" class=\"dataframe\">\n",
       "  <thead>\n",
       "    <tr style=\"text-align: right;\">\n",
       "      <th></th>\n",
       "      <th>frequency</th>\n",
       "    </tr>\n",
       "    <tr>\n",
       "      <th>DEPARTMENT_NAME</th>\n",
       "      <th></th>\n",
       "    </tr>\n",
       "  </thead>\n",
       "  <tbody>\n",
       "    <tr>\n",
       "      <th>Boston Police Department</th>\n",
       "      <td>0.403081</td>\n",
       "    </tr>\n",
       "    <tr>\n",
       "      <th>Boston Fire Department</th>\n",
       "      <td>0.217622</td>\n",
       "    </tr>\n",
       "    <tr>\n",
       "      <th>BPS Substitute Teachers/Nurs</th>\n",
       "      <td>0.114356</td>\n",
       "    </tr>\n",
       "    <tr>\n",
       "      <th>BPS Special Education</th>\n",
       "      <td>0.105607</td>\n",
       "    </tr>\n",
       "    <tr>\n",
       "      <th>BPS Transportation</th>\n",
       "      <td>0.080468</td>\n",
       "    </tr>\n",
       "    <tr>\n",
       "      <th>Boston Public Library</th>\n",
       "      <td>0.069254</td>\n",
       "    </tr>\n",
       "    <tr>\n",
       "      <th>BPS Business Service</th>\n",
       "      <td>0.009612</td>\n",
       "    </tr>\n",
       "  </tbody>\n",
       "</table>\n",
       "</div>"
      ],
      "text/plain": [
       "                              frequency\n",
       "DEPARTMENT_NAME                        \n",
       "Boston Police Department       0.403081\n",
       "Boston Fire Department         0.217622\n",
       "BPS Substitute Teachers/Nurs   0.114356\n",
       "BPS Special Education          0.105607\n",
       "BPS Transportation             0.080468\n",
       "Boston Public Library          0.069254\n",
       "BPS Business Service           0.009612"
      ]
     },
     "execution_count": 148,
     "metadata": {},
     "output_type": "execute_result"
    }
   ],
   "source": [
    "# verifying operation worked\n",
    "viz_df"
   ]
  },
  {
   "cell_type": "code",
   "execution_count": 149,
   "metadata": {},
   "outputs": [],
   "source": [
    "# add index to dataframe\n",
    "viz_df.reset_index(inplace=True)"
   ]
  },
  {
   "cell_type": "code",
   "execution_count": 150,
   "metadata": {},
   "outputs": [],
   "source": [
    "# rename DEPARTMENT_NAME column to value\n",
    "viz_df.rename(columns={\"DEPARTMENT_NAME\": \"department_name\"}, inplace=True)\n",
    "viz_df.rename(columns={\"DEPARTMENT_NAME\": \"department_name\"}, inplace=True)"
   ]
  },
  {
   "cell_type": "markdown",
   "metadata": {},
   "source": [
    "#### Define\n",
    "\n",
    "Export dataframe as csv without the index. This is because the Observable notebook would read the index as another column."
   ]
  },
  {
   "cell_type": "code",
   "execution_count": 151,
   "metadata": {},
   "outputs": [],
   "source": [
    "# export dataframe to csv\n",
    "viz_df.to_csv('final_earnings_data.csv', index=False)"
   ]
  },
  {
   "cell_type": "code",
   "execution_count": 152,
   "metadata": {},
   "outputs": [
    {
     "data": {
      "text/html": [
       "<div>\n",
       "<style scoped>\n",
       "    .dataframe tbody tr th:only-of-type {\n",
       "        vertical-align: middle;\n",
       "    }\n",
       "\n",
       "    .dataframe tbody tr th {\n",
       "        vertical-align: top;\n",
       "    }\n",
       "\n",
       "    .dataframe thead th {\n",
       "        text-align: right;\n",
       "    }\n",
       "</style>\n",
       "<table border=\"1\" class=\"dataframe\">\n",
       "  <thead>\n",
       "    <tr style=\"text-align: right;\">\n",
       "      <th></th>\n",
       "      <th>department_name</th>\n",
       "      <th>frequency</th>\n",
       "    </tr>\n",
       "  </thead>\n",
       "  <tbody>\n",
       "    <tr>\n",
       "      <th>0</th>\n",
       "      <td>Boston Police Department</td>\n",
       "      <td>0.403081</td>\n",
       "    </tr>\n",
       "    <tr>\n",
       "      <th>1</th>\n",
       "      <td>Boston Fire Department</td>\n",
       "      <td>0.217622</td>\n",
       "    </tr>\n",
       "    <tr>\n",
       "      <th>2</th>\n",
       "      <td>BPS Substitute Teachers/Nurs</td>\n",
       "      <td>0.114356</td>\n",
       "    </tr>\n",
       "    <tr>\n",
       "      <th>3</th>\n",
       "      <td>BPS Special Education</td>\n",
       "      <td>0.105607</td>\n",
       "    </tr>\n",
       "    <tr>\n",
       "      <th>4</th>\n",
       "      <td>BPS Transportation</td>\n",
       "      <td>0.080468</td>\n",
       "    </tr>\n",
       "    <tr>\n",
       "      <th>5</th>\n",
       "      <td>Boston Public Library</td>\n",
       "      <td>0.069254</td>\n",
       "    </tr>\n",
       "    <tr>\n",
       "      <th>6</th>\n",
       "      <td>BPS Business Service</td>\n",
       "      <td>0.009612</td>\n",
       "    </tr>\n",
       "  </tbody>\n",
       "</table>\n",
       "</div>"
      ],
      "text/plain": [
       "                department_name  frequency\n",
       "0      Boston Police Department   0.403081\n",
       "1        Boston Fire Department   0.217622\n",
       "2  BPS Substitute Teachers/Nurs   0.114356\n",
       "3         BPS Special Education   0.105607\n",
       "4            BPS Transportation   0.080468\n",
       "5         Boston Public Library   0.069254\n",
       "6          BPS Business Service   0.009612"
      ]
     },
     "execution_count": 152,
     "metadata": {},
     "output_type": "execute_result"
    }
   ],
   "source": [
    "# final dataframe\n",
    "viz_df"
   ]
  }
 ],
 "metadata": {
  "kernelspec": {
   "display_name": "Python 3",
   "language": "python",
   "name": "python3"
  },
  "language_info": {
   "codemirror_mode": {
    "name": "ipython",
    "version": 3
   },
   "file_extension": ".py",
   "mimetype": "text/x-python",
   "name": "python",
   "nbconvert_exporter": "python",
   "pygments_lexer": "ipython3",
   "version": "3.8.5"
  }
 },
 "nbformat": 4,
 "nbformat_minor": 4
}
