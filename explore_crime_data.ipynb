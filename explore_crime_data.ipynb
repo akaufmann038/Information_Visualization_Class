{
 "cells": [
  {
   "cell_type": "code",
   "execution_count": 1,
   "metadata": {},
   "outputs": [],
   "source": [
    "import pandas as pd"
   ]
  },
  {
   "cell_type": "code",
   "execution_count": 2,
   "metadata": {
    "scrolled": true
   },
   "outputs": [],
   "source": [
    "df = pd.read_csv('crime-incident-reports-2018.csv')"
   ]
  },
  {
   "cell_type": "code",
   "execution_count": 3,
   "metadata": {},
   "outputs": [],
   "source": [
    "used_offenses = ['Aggravated Assault', 'Auto Theft', 'Harassment', 'Robbery']\n",
    "used_districts = ['D4', 'B2', 'E13']\n",
    "# keep rows only with these values\n",
    "df2 = df[df['OFFENSE_CODE_GROUP'].isin(used_offenses) & df['DISTRICT'].isin(used_districts)]"
   ]
  },
  {
   "cell_type": "code",
   "execution_count": null,
   "metadata": {
    "scrolled": true
   },
   "outputs": [],
   "source": [
    "# group by district and offense code group, aggregate with count\n",
    "df2 = pd.DataFrame(df2.groupby(['DISTRICT', 'OFFENSE_CODE_GROUP']).count()).reset_index()\n",
    "df2"
   ]
  },
  {
   "cell_type": "code",
   "execution_count": null,
   "metadata": {},
   "outputs": [],
   "source": [
    "df2['DISTRICT'] = df2.DISTRICT.map({'B2': 'Roxbury', 'D4': 'South End', 'E13': 'Jamaica Plain'})"
   ]
  },
  {
   "cell_type": "code",
   "execution_count": null,
   "metadata": {},
   "outputs": [],
   "source": [
    "df2.rename(columns={'INCIDENT_NUMBER': 'INCIDENT_COUNTS'}, inplace=True)"
   ]
  },
  {
   "cell_type": "code",
   "execution_count": null,
   "metadata": {},
   "outputs": [],
   "source": [
    "# final df has district, offense type, number of incidents, and number of shootings\n",
    "df2.to_csv('crime_data.csv')"
   ]
  },
  {
   "cell_type": "code",
   "execution_count": null,
   "metadata": {},
   "outputs": [],
   "source": [
    "final_df.to_csv('final_crime_data.csv')"
   ]
  }
 ],
 "metadata": {
  "kernelspec": {
   "display_name": "Python 3",
   "language": "python",
   "name": "python3"
  },
  "language_info": {
   "codemirror_mode": {
    "name": "ipython",
    "version": 3
   },
   "file_extension": ".py",
   "mimetype": "text/x-python",
   "name": "python",
   "nbconvert_exporter": "python",
   "pygments_lexer": "ipython3",
   "version": "3.8.5"
  }
 },
 "nbformat": 4,
 "nbformat_minor": 4
}
